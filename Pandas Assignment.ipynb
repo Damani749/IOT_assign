{
 "cells": [
  {
   "cell_type": "markdown",
   "id": "5c6da570-a92f-4146-9f4a-66d41455064c",
   "metadata": {},
   "source": [
    "# PANDAS ASSIGNMENT"
   ]
  },
  {
   "cell_type": "code",
   "execution_count": 95,
   "id": "69f6ac3d-e181-462d-815f-20f4da81d572",
   "metadata": {},
   "outputs": [],
   "source": [
    "import pandas as pd\n",
    "import numpy as np"
   ]
  },
  {
   "cell_type": "code",
   "execution_count": 96,
   "id": "ae5a8ddd-299a-44b9-b0e2-db55ce2e51d5",
   "metadata": {},
   "outputs": [],
   "source": [
    "#1.Create and display a one-dimensional array-like object containing an array of data."
   ]
  },
  {
   "cell_type": "code",
   "execution_count": 97,
   "id": "9904c57a-f844-4184-af03-f27e715d292e",
   "metadata": {},
   "outputs": [
    {
     "name": "stdout",
     "output_type": "stream",
     "text": [
      "0    11\n",
      "1    22\n",
      "2    33\n",
      "3    44\n",
      "4    55\n",
      "5    66\n",
      "6    77\n",
      "dtype: int64\n"
     ]
    }
   ],
   "source": [
    "data = pd.Series([11,22,33,44,55,66,77])\n",
    "print(data)"
   ]
  },
  {
   "cell_type": "code",
   "execution_count": 98,
   "id": "beaaea11-02cf-4d5c-85c4-6bbc61f0cdb8",
   "metadata": {},
   "outputs": [],
   "source": [
    "#2.Convert a Panda module Series to Python list and it’s type."
   ]
  },
  {
   "cell_type": "code",
   "execution_count": 99,
   "id": "4045ba97-9bd2-4e7b-91aa-ee0e557fa7bc",
   "metadata": {},
   "outputs": [
    {
     "name": "stdout",
     "output_type": "stream",
     "text": [
      "0    11\n",
      "1    22\n",
      "2    33\n",
      "3    44\n",
      "4    55\n",
      "5    66\n",
      "6    77\n",
      "dtype: int64\n",
      "Type of l1 = <class 'pandas.core.series.Series'>\n",
      "\n",
      "[11, 22, 33, 44, 55, 66, 77]\n",
      "Type of l1 = <class 'list'>\n"
     ]
    }
   ],
   "source": [
    "data = pd.Series([11,22,33,44,55,66,77])\n",
    "l1 = data.tolist()\n",
    "print(data)\n",
    "print(f\"Type of l1 = {type(data)}\\n\")\n",
    "print(l1)\n",
    "print(f\"Type of l1 = {type(l1)}\")\n"
   ]
  },
  {
   "cell_type": "code",
   "execution_count": 100,
   "id": "452db16e-f264-4d52-96b5-df8c907d1d86",
   "metadata": {},
   "outputs": [],
   "source": [
    "#3.Add, subtract, multiple and divide two Pandas Series."
   ]
  },
  {
   "cell_type": "code",
   "execution_count": 101,
   "id": "d535d11c-f706-4807-85f3-a44defb5ae36",
   "metadata": {},
   "outputs": [
    {
     "name": "stdout",
     "output_type": "stream",
     "text": [
      "Addition of two series is : \n",
      "0     3\n",
      "1     7\n",
      "2    11\n",
      "3    15\n",
      "4    19\n",
      "dtype: int64\n",
      "\n",
      "Substraction of two series is : \n",
      "0    1\n",
      "1    1\n",
      "2    1\n",
      "3    1\n",
      "4    1\n",
      "dtype: int64\n",
      "\n",
      "Multiplication of two series is : \n",
      "0     2\n",
      "1    12\n",
      "2    30\n",
      "3    56\n",
      "4    90\n",
      "dtype: int64\n",
      "\n",
      "Division of two series is : \n",
      "0    2.000000\n",
      "1    1.333333\n",
      "2    1.200000\n",
      "3    1.142857\n",
      "4    1.111111\n",
      "dtype: float64\n",
      "\n"
     ]
    }
   ],
   "source": [
    "data1 = pd.Series([2,4,6,8,10])\n",
    "data2 = pd.Series([1,3,5,7,9])\n",
    "print(f\"Addition of two series is : \\n{data1+data2}\\n\")\n",
    "print(f\"Substraction of two series is : \\n{data1-data2}\\n\")\n",
    "print(f\"Multiplication of two series is : \\n{data1*data2}\\n\")\n",
    "print(f\"Division of two series is : \\n{data1/data2}\\n\")"
   ]
  },
  {
   "cell_type": "code",
   "execution_count": 102,
   "id": "9f16be6f-e5b9-4aa8-b3f9-48f8bfd1888b",
   "metadata": {},
   "outputs": [],
   "source": [
    "#4.Convert a dictionary to a Pandas series."
   ]
  },
  {
   "cell_type": "code",
   "execution_count": 103,
   "id": "d2f29db4-62e6-4e6d-8a9c-7cfb7fce136d",
   "metadata": {},
   "outputs": [
    {
     "name": "stdout",
     "output_type": "stream",
     "text": [
      "{'a': 100, 'b': 200, 'c': 300, 'd': 400, 'e': 800}\n",
      "Type of Dictionary = <class 'dict'>\n",
      "\n",
      "a    100\n",
      "b    200\n",
      "c    300\n",
      "d    400\n",
      "e    800\n",
      "dtype: int64\n",
      "Type of series = <class 'pandas.core.series.Series'>\n"
     ]
    }
   ],
   "source": [
    "dict1 = {'a': 100, 'b': 200, 'c': 300, 'd': 400, 'e': 800}\n",
    "print(dict1)\n",
    "print(f\"Type of Dictionary = {type(dict1)}\\n\")\n",
    "series = pd.Series(dict1)\n",
    "print(series)\n",
    "print(f\"Type of series = {type(series)}\")"
   ]
  },
  {
   "cell_type": "code",
   "execution_count": 104,
   "id": "a94c9f97-fcf2-4f3c-a723-92b055462079",
   "metadata": {},
   "outputs": [],
   "source": [
    "#5.Convert a NumPy array to a Pandas series."
   ]
  },
  {
   "cell_type": "code",
   "execution_count": 105,
   "id": "dba9872c-9231-4024-b8fc-a8631c4adc5e",
   "metadata": {},
   "outputs": [
    {
     "name": "stdout",
     "output_type": "stream",
     "text": [
      "[10 20 30 40 50]\n",
      "Type of numpy array = <class 'numpy.ndarray'>\n",
      "\n",
      "0    10\n",
      "1    20\n",
      "2    30\n",
      "3    40\n",
      "4    50\n",
      "dtype: int64\n",
      "Type of series = <class 'pandas.core.series.Series'>\n"
     ]
    }
   ],
   "source": [
    "numpy_arr = np.array([10, 20, 30, 40, 50])\n",
    "print(numpy_arr)\n",
    "print(f\"Type of numpy array = {type(numpy_arr)}\\n\")\n",
    "series = pd.Series(numpy_arr)\n",
    "print(series)\n",
    "print(f\"Type of series = {type(series)}\")"
   ]
  },
  {
   "cell_type": "code",
   "execution_count": 106,
   "id": "e8ed4a3c-7531-4401-baf9-41d22184a55d",
   "metadata": {},
   "outputs": [],
   "source": [
    "#6.Change the data type of given a column or a Series."
   ]
  },
  {
   "cell_type": "code",
   "execution_count": 107,
   "id": "c63d24e2-a9b7-4352-944f-abc9eae5a9a4",
   "metadata": {},
   "outputs": [
    {
     "name": "stdout",
     "output_type": "stream",
     "text": [
      "Original data types:\n",
      "Name      object\n",
      "Age        int64\n",
      "Salary     int64\n",
      "dtype: object\n",
      "\n",
      "Updated data types:\n",
      "Name       object\n",
      "Age       float64\n",
      "Salary      int64\n",
      "dtype: object\n"
     ]
    }
   ],
   "source": [
    "data = {'Name': ['Alice', 'Bob', 'Charlie', 'David', 'Emily'],\n",
    "        'Age': [25, 30, 35, 40, 45],\n",
    "        'Salary': [50000, 60000, 70000, 80000, 90000]}\n",
    "\n",
    "df = pd.DataFrame(data)\n",
    "print(\"Original data types:\")\n",
    "print(df.dtypes)\n",
    "df['Age'] = df['Age'].astype('float64')\n",
    "df['Salary'] = df['Salary'].astype('int64')\n",
    "print(\"\\nUpdated data types:\")\n",
    "print(df.dtypes)"
   ]
  },
  {
   "cell_type": "code",
   "execution_count": 108,
   "id": "ea981c2f-10f1-4cba-825b-e697648908f6",
   "metadata": {},
   "outputs": [],
   "source": [
    "#7.Convert a given Series to an array."
   ]
  },
  {
   "cell_type": "code",
   "execution_count": 109,
   "id": "d0eb88ff-d2b2-408b-89b8-17a323d35cbc",
   "metadata": {},
   "outputs": [
    {
     "name": "stdout",
     "output_type": "stream",
     "text": [
      "Pandas Series:\n",
      "0    1\n",
      "1    2\n",
      "2    3\n",
      "3    4\n",
      "4    5\n",
      "dtype: int64\n",
      "\n",
      "NumPy Array:\n",
      "[1 2 3 4 5]\n",
      "\n",
      "Type of array: <class 'numpy.ndarray'>\n"
     ]
    }
   ],
   "source": [
    "series = pd.Series([1, 2, 3, 4, 5])\n",
    "array = series.to_numpy()\n",
    "\n",
    "print(\"Pandas Series:\")\n",
    "print(series)\n",
    "print(\"\\nNumPy Array:\")\n",
    "print(array)\n",
    "print(\"\\nType of array:\", type(array))"
   ]
  },
  {
   "cell_type": "code",
   "execution_count": 110,
   "id": "3ec39064-c2cb-40e8-9a44-e6579ff52e5b",
   "metadata": {},
   "outputs": [],
   "source": [
    "#8.Create a dataframe from a dictionary and display it."
   ]
  },
  {
   "cell_type": "code",
   "execution_count": 111,
   "id": "a7121a16-804a-48ee-bd66-5406620be367",
   "metadata": {},
   "outputs": [
    {
     "name": "stdout",
     "output_type": "stream",
     "text": [
      "        Name  Age  Salary\n",
      "0      Ramya   25   80000\n",
      "1     Aabhay   23   60000\n",
      "2      Harsh   25   70000\n",
      "3   Mayuresh   25   80000\n",
      "4    Saurabh   23   55000\n",
      "5  Sudarshan   24   65000\n"
     ]
    }
   ],
   "source": [
    "data = {\n",
    "    'Name': ['Ramya', 'Aabhay', 'Harsh', 'Mayuresh', 'Saurabh', 'Sudarshan'],\n",
    "    'Age': [25, 23, 25, 25, 23, 24],\n",
    "    'Salary': [80000, 60000, 70000, 80000, 55000, 65000]\n",
    "}\n",
    "df = pd.DataFrame(data)\n",
    "print(df)"
   ]
  },
  {
   "cell_type": "code",
   "execution_count": 112,
   "id": "31cb6a3a-3674-4d8e-9252-9d3ce1a03586",
   "metadata": {},
   "outputs": [],
   "source": [
    "#   9 .i) Create a list of empids and names (10 employees).\n",
    "    # ii) Convert list into Series.\n",
    "    #iii) Print type of Series.\n",
    "    # iv) Convert Series into DataFrame.\n",
    "    #  v) a) Display all records.\n",
    "    #     b) Display first five records.\n",
    "    #     c) Display last five records.\n",
    "    #     d) Display first two and last two records.\n",
    "    #     e) Display name of 5th employee.\n",
    "    #     f) Display record of 4th employee.\n",
    "    # vi) Save the record in csv file (MyRecord.csv)"
   ]
  },
  {
   "cell_type": "code",
   "execution_count": 113,
   "id": "d1a3b89e-8a7a-49bf-a865-545711c16f20",
   "metadata": {},
   "outputs": [
    {
     "name": "stdout",
     "output_type": "stream",
     "text": [
      "701       Abhay\n",
      "702      Pranav\n",
      "703       Omkar\n",
      "704     Sandesh\n",
      "705    Mayuresh\n",
      "706      Rutuja\n",
      "707      Ankita\n",
      "708      Muskan\n",
      "709      Aniket\n",
      "710    Jitendra\n",
      "dtype: object\n",
      "\n",
      "Type of Series: <class 'pandas.core.series.Series'>\n",
      "\n",
      "\n",
      "         Name\n",
      "701     Abhay\n",
      "702    Pranav\n",
      "703     Omkar\n",
      "704   Sandesh\n",
      "705  Mayuresh\n",
      "706    Rutuja\n",
      "707    Ankita\n",
      "708    Muskan\n",
      "709    Aniket\n",
      "710  Jitendra\n",
      "\n",
      "\n",
      "         Name\n",
      "701     Abhay\n",
      "702    Pranav\n",
      "703     Omkar\n",
      "704   Sandesh\n",
      "705  Mayuresh\n",
      "\n",
      "\n",
      "         Name\n",
      "706    Rutuja\n",
      "707    Ankita\n",
      "708    Muskan\n",
      "709    Aniket\n",
      "710  Jitendra\n",
      "\n",
      "\n",
      "       Name\n",
      "701   Abhay\n",
      "702  Pranav\n",
      "\n",
      "\n",
      "         Name\n",
      "709    Aniket\n",
      "710  Jitendra\n",
      "\n",
      "\n",
      "Mayuresh\n",
      "\n",
      "\n",
      "Name    Sandesh\n",
      "Name: 704, dtype: object\n",
      "\n",
      "\n"
     ]
    }
   ],
   "source": [
    "empids = [701, 702, 703, 704, 705, 706, 707, 708, 709, 710]\n",
    "names = ['Abhay', 'Pranav', 'Omkar', 'Sandesh', 'Mayuresh', 'Rutuja', 'Ankita', 'Muskan', 'Aniket', 'Jitendra']\n",
    "emp_series = pd.Series(names, index=empids)\n",
    "print(emp_series)\n",
    "\n",
    "print(\"\\nType of Series:\", type(emp_series))\n",
    "print('\\n')\n",
    "\n",
    "emp_df = pd.DataFrame({'Name': emp_series})\n",
    "print(emp_df)\n",
    "print('\\n')\n",
    "\n",
    "print(emp_df.head())\n",
    "print('\\n')\n",
    "\n",
    "print(emp_df.tail())\n",
    "print('\\n')\n",
    "\n",
    "print(emp_df.head(2))\n",
    "print('\\n')\n",
    "\n",
    "print(emp_df.tail(2))\n",
    "print('\\n')\n",
    "\n",
    "print(emp_df.iloc[4]['Name'])\n",
    "print('\\n')\n",
    "\n",
    "print(emp_df.loc[704])\n",
    "print('\\n')\n",
    "\n",
    "emp_df.to_csv('MyRecord.csv', index=False)"
   ]
  },
  {
   "cell_type": "code",
   "execution_count": 114,
   "id": "c5bd666e-3dc0-4e8e-a3f5-20c6b551958c",
   "metadata": {},
   "outputs": [],
   "source": [
    "#10. i) Read the MyRecord.csv file.\n",
    "     #ii) Create a new column Salary."
   ]
  },
  {
   "cell_type": "code",
   "execution_count": 115,
   "id": "145e3adf-d09f-4b39-ad45-bcfbe803ab5f",
   "metadata": {},
   "outputs": [
    {
     "name": "stdout",
     "output_type": "stream",
     "text": [
      "       Name  Salary\n",
      "0     Abhay   50000\n",
      "1    Pranav   55000\n",
      "2     Omkar   60000\n",
      "3   Sandesh   65000\n",
      "4  Mayuresh   70000\n",
      "5    Rutuja   75000\n",
      "6    Ankita   80000\n",
      "7    Muskan   85000\n",
      "8    Aniket   90000\n",
      "9  Jitendra   95000\n"
     ]
    }
   ],
   "source": [
    "emp1_df = pd.read_csv('MyRecord.csv')\n",
    "emp1_df['Salary'] = [50000, 55000, 60000, 65000, 70000, 75000, 80000, 85000, 90000, 95000]\n",
    "print(emp1_df)"
   ]
  },
  {
   "cell_type": "code",
   "execution_count": 116,
   "id": "b2e566ba-856b-4da5-9a7a-af8fe871a969",
   "metadata": {},
   "outputs": [],
   "source": [
    "#11.i) Read the dataset \"Advertising.csv\" in data frame."
   ]
  },
  {
   "cell_type": "code",
   "execution_count": 117,
   "id": "e240ceb0-1c77-454f-9321-e12e3764fabd",
   "metadata": {},
   "outputs": [
    {
     "name": "stdout",
     "output_type": "stream",
     "text": [
      "        TV  radio  newspaper  sales\n",
      "0    230.1   37.8       69.2   22.1\n",
      "1     44.5   39.3       45.1   10.4\n",
      "2     17.2   45.9       69.3    9.3\n",
      "3    151.5   41.3       58.5   18.5\n",
      "4    180.8   10.8       58.4   12.9\n",
      "..     ...    ...        ...    ...\n",
      "195   38.2    3.7       13.8    7.6\n",
      "196   94.2    4.9        8.1    9.7\n",
      "197  177.0    9.3        6.4   12.8\n",
      "198  283.6   42.0       66.2   25.5\n",
      "199  232.1    8.6        8.7   13.4\n",
      "\n",
      "[200 rows x 4 columns]\n"
     ]
    }
   ],
   "source": [
    "advert = pd.read_csv('Advertising.csv')\n",
    "print(advert)"
   ]
  },
  {
   "cell_type": "code",
   "execution_count": 118,
   "id": "e1535cbf-25cd-41ed-b747-556250f457f3",
   "metadata": {},
   "outputs": [],
   "source": [
    "#11.ii) Print first five records of dataset."
   ]
  },
  {
   "cell_type": "code",
   "execution_count": 119,
   "id": "df59067d-af4a-4743-b7c3-b4249fbe4786",
   "metadata": {},
   "outputs": [
    {
     "data": {
      "text/html": [
       "<div>\n",
       "<style scoped>\n",
       "    .dataframe tbody tr th:only-of-type {\n",
       "        vertical-align: middle;\n",
       "    }\n",
       "\n",
       "    .dataframe tbody tr th {\n",
       "        vertical-align: top;\n",
       "    }\n",
       "\n",
       "    .dataframe thead th {\n",
       "        text-align: right;\n",
       "    }\n",
       "</style>\n",
       "<table border=\"1\" class=\"dataframe\">\n",
       "  <thead>\n",
       "    <tr style=\"text-align: right;\">\n",
       "      <th></th>\n",
       "      <th>TV</th>\n",
       "      <th>radio</th>\n",
       "      <th>newspaper</th>\n",
       "      <th>sales</th>\n",
       "    </tr>\n",
       "  </thead>\n",
       "  <tbody>\n",
       "    <tr>\n",
       "      <th>0</th>\n",
       "      <td>230.1</td>\n",
       "      <td>37.8</td>\n",
       "      <td>69.2</td>\n",
       "      <td>22.1</td>\n",
       "    </tr>\n",
       "    <tr>\n",
       "      <th>1</th>\n",
       "      <td>44.5</td>\n",
       "      <td>39.3</td>\n",
       "      <td>45.1</td>\n",
       "      <td>10.4</td>\n",
       "    </tr>\n",
       "    <tr>\n",
       "      <th>2</th>\n",
       "      <td>17.2</td>\n",
       "      <td>45.9</td>\n",
       "      <td>69.3</td>\n",
       "      <td>9.3</td>\n",
       "    </tr>\n",
       "    <tr>\n",
       "      <th>3</th>\n",
       "      <td>151.5</td>\n",
       "      <td>41.3</td>\n",
       "      <td>58.5</td>\n",
       "      <td>18.5</td>\n",
       "    </tr>\n",
       "    <tr>\n",
       "      <th>4</th>\n",
       "      <td>180.8</td>\n",
       "      <td>10.8</td>\n",
       "      <td>58.4</td>\n",
       "      <td>12.9</td>\n",
       "    </tr>\n",
       "  </tbody>\n",
       "</table>\n",
       "</div>"
      ],
      "text/plain": [
       "      TV  radio  newspaper  sales\n",
       "0  230.1   37.8       69.2   22.1\n",
       "1   44.5   39.3       45.1   10.4\n",
       "2   17.2   45.9       69.3    9.3\n",
       "3  151.5   41.3       58.5   18.5\n",
       "4  180.8   10.8       58.4   12.9"
      ]
     },
     "execution_count": 119,
     "metadata": {},
     "output_type": "execute_result"
    }
   ],
   "source": [
    "advert.head()"
   ]
  },
  {
   "cell_type": "code",
   "execution_count": 120,
   "id": "a0c43e54-602d-412e-b941-70bea5001523",
   "metadata": {},
   "outputs": [],
   "source": [
    "#11.iii) print last five records from dataset."
   ]
  },
  {
   "cell_type": "code",
   "execution_count": 121,
   "id": "013d736d-d9fe-4660-aeda-843f534c0c37",
   "metadata": {},
   "outputs": [
    {
     "data": {
      "text/html": [
       "<div>\n",
       "<style scoped>\n",
       "    .dataframe tbody tr th:only-of-type {\n",
       "        vertical-align: middle;\n",
       "    }\n",
       "\n",
       "    .dataframe tbody tr th {\n",
       "        vertical-align: top;\n",
       "    }\n",
       "\n",
       "    .dataframe thead th {\n",
       "        text-align: right;\n",
       "    }\n",
       "</style>\n",
       "<table border=\"1\" class=\"dataframe\">\n",
       "  <thead>\n",
       "    <tr style=\"text-align: right;\">\n",
       "      <th></th>\n",
       "      <th>TV</th>\n",
       "      <th>radio</th>\n",
       "      <th>newspaper</th>\n",
       "      <th>sales</th>\n",
       "    </tr>\n",
       "  </thead>\n",
       "  <tbody>\n",
       "    <tr>\n",
       "      <th>195</th>\n",
       "      <td>38.2</td>\n",
       "      <td>3.7</td>\n",
       "      <td>13.8</td>\n",
       "      <td>7.6</td>\n",
       "    </tr>\n",
       "    <tr>\n",
       "      <th>196</th>\n",
       "      <td>94.2</td>\n",
       "      <td>4.9</td>\n",
       "      <td>8.1</td>\n",
       "      <td>9.7</td>\n",
       "    </tr>\n",
       "    <tr>\n",
       "      <th>197</th>\n",
       "      <td>177.0</td>\n",
       "      <td>9.3</td>\n",
       "      <td>6.4</td>\n",
       "      <td>12.8</td>\n",
       "    </tr>\n",
       "    <tr>\n",
       "      <th>198</th>\n",
       "      <td>283.6</td>\n",
       "      <td>42.0</td>\n",
       "      <td>66.2</td>\n",
       "      <td>25.5</td>\n",
       "    </tr>\n",
       "    <tr>\n",
       "      <th>199</th>\n",
       "      <td>232.1</td>\n",
       "      <td>8.6</td>\n",
       "      <td>8.7</td>\n",
       "      <td>13.4</td>\n",
       "    </tr>\n",
       "  </tbody>\n",
       "</table>\n",
       "</div>"
      ],
      "text/plain": [
       "        TV  radio  newspaper  sales\n",
       "195   38.2    3.7       13.8    7.6\n",
       "196   94.2    4.9        8.1    9.7\n",
       "197  177.0    9.3        6.4   12.8\n",
       "198  283.6   42.0       66.2   25.5\n",
       "199  232.1    8.6        8.7   13.4"
      ]
     },
     "execution_count": 121,
     "metadata": {},
     "output_type": "execute_result"
    }
   ],
   "source": [
    "advert.tail()"
   ]
  },
  {
   "cell_type": "code",
   "execution_count": 122,
   "id": "a038298c-348a-403e-83ad-d828db6e0cba",
   "metadata": {},
   "outputs": [],
   "source": [
    "#11.iv) display the columns inside the dataset."
   ]
  },
  {
   "cell_type": "code",
   "execution_count": 123,
   "id": "db090042-e5bd-441d-a99f-193ac609a253",
   "metadata": {},
   "outputs": [
    {
     "data": {
      "text/plain": [
       "Index(['TV', 'radio', 'newspaper', 'sales'], dtype='object')"
      ]
     },
     "execution_count": 123,
     "metadata": {},
     "output_type": "execute_result"
    }
   ],
   "source": [
    "advert.columns"
   ]
  },
  {
   "cell_type": "code",
   "execution_count": 124,
   "id": "a3c7baa3-b7fb-4d89-9f23-4e6911f6b11c",
   "metadata": {},
   "outputs": [],
   "source": [
    "#11.v) display last three records from dataset."
   ]
  },
  {
   "cell_type": "code",
   "execution_count": 125,
   "id": "a59a2f4c-c89e-4a9e-ac8e-589226511938",
   "metadata": {},
   "outputs": [
    {
     "data": {
      "text/html": [
       "<div>\n",
       "<style scoped>\n",
       "    .dataframe tbody tr th:only-of-type {\n",
       "        vertical-align: middle;\n",
       "    }\n",
       "\n",
       "    .dataframe tbody tr th {\n",
       "        vertical-align: top;\n",
       "    }\n",
       "\n",
       "    .dataframe thead th {\n",
       "        text-align: right;\n",
       "    }\n",
       "</style>\n",
       "<table border=\"1\" class=\"dataframe\">\n",
       "  <thead>\n",
       "    <tr style=\"text-align: right;\">\n",
       "      <th></th>\n",
       "      <th>TV</th>\n",
       "      <th>radio</th>\n",
       "      <th>newspaper</th>\n",
       "      <th>sales</th>\n",
       "    </tr>\n",
       "  </thead>\n",
       "  <tbody>\n",
       "    <tr>\n",
       "      <th>197</th>\n",
       "      <td>177.0</td>\n",
       "      <td>9.3</td>\n",
       "      <td>6.4</td>\n",
       "      <td>12.8</td>\n",
       "    </tr>\n",
       "    <tr>\n",
       "      <th>198</th>\n",
       "      <td>283.6</td>\n",
       "      <td>42.0</td>\n",
       "      <td>66.2</td>\n",
       "      <td>25.5</td>\n",
       "    </tr>\n",
       "    <tr>\n",
       "      <th>199</th>\n",
       "      <td>232.1</td>\n",
       "      <td>8.6</td>\n",
       "      <td>8.7</td>\n",
       "      <td>13.4</td>\n",
       "    </tr>\n",
       "  </tbody>\n",
       "</table>\n",
       "</div>"
      ],
      "text/plain": [
       "        TV  radio  newspaper  sales\n",
       "197  177.0    9.3        6.4   12.8\n",
       "198  283.6   42.0       66.2   25.5\n",
       "199  232.1    8.6        8.7   13.4"
      ]
     },
     "execution_count": 125,
     "metadata": {},
     "output_type": "execute_result"
    }
   ],
   "source": [
    "advert.tail(3)"
   ]
  },
  {
   "cell_type": "code",
   "execution_count": 126,
   "id": "cae8f09e-5724-4d18-acf8-86ad561b98dc",
   "metadata": {},
   "outputs": [],
   "source": [
    "#11.vi) display the information about the dataset and analyse the data."
   ]
  },
  {
   "cell_type": "code",
   "execution_count": 127,
   "id": "edd6827d-f4da-4553-be00-480509e6eb09",
   "metadata": {},
   "outputs": [
    {
     "name": "stdout",
     "output_type": "stream",
     "text": [
      "<class 'pandas.core.frame.DataFrame'>\n",
      "RangeIndex: 200 entries, 0 to 199\n",
      "Data columns (total 4 columns):\n",
      " #   Column     Non-Null Count  Dtype  \n",
      "---  ------     --------------  -----  \n",
      " 0   TV         200 non-null    float64\n",
      " 1   radio      200 non-null    float64\n",
      " 2   newspaper  200 non-null    float64\n",
      " 3   sales      200 non-null    float64\n",
      "dtypes: float64(4)\n",
      "memory usage: 6.4 KB\n"
     ]
    }
   ],
   "source": [
    "advert.info()"
   ]
  },
  {
   "cell_type": "code",
   "execution_count": 128,
   "id": "b6744e8f-b9f0-4595-a5b2-24bc96e76f91",
   "metadata": {},
   "outputs": [],
   "source": [
    "#11.vii) display types of each columns."
   ]
  },
  {
   "cell_type": "code",
   "execution_count": 129,
   "id": "1bdfc46e-73f9-4683-ac2c-d58fc53e8804",
   "metadata": {},
   "outputs": [
    {
     "name": "stdout",
     "output_type": "stream",
     "text": [
      "TV           float64\n",
      "radio        float64\n",
      "newspaper    float64\n",
      "sales        float64\n",
      "dtype: object\n"
     ]
    }
   ],
   "source": [
    "print(advert.dtypes)"
   ]
  },
  {
   "cell_type": "code",
   "execution_count": 130,
   "id": "ac753204-7cc8-4a52-b924-54754eafd122",
   "metadata": {},
   "outputs": [],
   "source": [
    "#11.viii) check for null values in the dataset and display the sum of null values inside the column."
   ]
  },
  {
   "cell_type": "code",
   "execution_count": 131,
   "id": "7385a190-7733-47b4-8acc-513369140279",
   "metadata": {},
   "outputs": [
    {
     "data": {
      "text/plain": [
       "TV           0\n",
       "radio        0\n",
       "newspaper    0\n",
       "sales        0\n",
       "dtype: int64"
      ]
     },
     "execution_count": 131,
     "metadata": {},
     "output_type": "execute_result"
    }
   ],
   "source": [
    "advert.isna().sum()"
   ]
  },
  {
   "cell_type": "code",
   "execution_count": 132,
   "id": "26615b76-c4d4-4115-b629-4e27e0dbf4dd",
   "metadata": {},
   "outputs": [],
   "source": [
    "#11.ix) drop a column 'radio' from a dataset and display first ten records."
   ]
  },
  {
   "cell_type": "code",
   "execution_count": 133,
   "id": "ec08118b-4b16-461c-af23-48357a19e5a3",
   "metadata": {},
   "outputs": [],
   "source": [
    "advert_df = advert.drop('radio', axis=1)"
   ]
  },
  {
   "cell_type": "code",
   "execution_count": 134,
   "id": "69d4a2ae-5ee9-4dbf-babb-5002c87443bc",
   "metadata": {},
   "outputs": [
    {
     "name": "stdout",
     "output_type": "stream",
     "text": [
      "      TV  newspaper  sales\n",
      "0  230.1       69.2   22.1\n",
      "1   44.5       45.1   10.4\n",
      "2   17.2       69.3    9.3\n",
      "3  151.5       58.5   18.5\n",
      "4  180.8       58.4   12.9\n",
      "5    8.7       75.0    7.2\n",
      "6   57.5       23.5   11.8\n",
      "7  120.2       11.6   13.2\n",
      "8    8.6        1.0    4.8\n",
      "9  199.8       21.2   10.6\n"
     ]
    }
   ],
   "source": [
    "print(advert_df.head(10))"
   ]
  },
  {
   "cell_type": "code",
   "execution_count": 135,
   "id": "15191c0d-0b91-4d12-b23c-5e010a760f3b",
   "metadata": {},
   "outputs": [],
   "source": [
    "#11.x) increase the sales by 10% and add a new column \"updated_sales\" in dataframe."
   ]
  },
  {
   "cell_type": "code",
   "execution_count": 136,
   "id": "a8285307-6902-4e88-a515-ee04c8d2c31a",
   "metadata": {},
   "outputs": [],
   "source": [
    "advert_df['updated_sales'] = advert_df['sales'] * 0.10"
   ]
  },
  {
   "cell_type": "code",
   "execution_count": 137,
   "id": "2d833f1a-1577-4f5a-bf0e-57ad497203af",
   "metadata": {},
   "outputs": [
    {
     "data": {
      "text/html": [
       "<div>\n",
       "<style scoped>\n",
       "    .dataframe tbody tr th:only-of-type {\n",
       "        vertical-align: middle;\n",
       "    }\n",
       "\n",
       "    .dataframe tbody tr th {\n",
       "        vertical-align: top;\n",
       "    }\n",
       "\n",
       "    .dataframe thead th {\n",
       "        text-align: right;\n",
       "    }\n",
       "</style>\n",
       "<table border=\"1\" class=\"dataframe\">\n",
       "  <thead>\n",
       "    <tr style=\"text-align: right;\">\n",
       "      <th></th>\n",
       "      <th>TV</th>\n",
       "      <th>newspaper</th>\n",
       "      <th>sales</th>\n",
       "      <th>updated_sales</th>\n",
       "    </tr>\n",
       "  </thead>\n",
       "  <tbody>\n",
       "    <tr>\n",
       "      <th>0</th>\n",
       "      <td>230.1</td>\n",
       "      <td>69.2</td>\n",
       "      <td>22.1</td>\n",
       "      <td>2.21</td>\n",
       "    </tr>\n",
       "    <tr>\n",
       "      <th>1</th>\n",
       "      <td>44.5</td>\n",
       "      <td>45.1</td>\n",
       "      <td>10.4</td>\n",
       "      <td>1.04</td>\n",
       "    </tr>\n",
       "    <tr>\n",
       "      <th>2</th>\n",
       "      <td>17.2</td>\n",
       "      <td>69.3</td>\n",
       "      <td>9.3</td>\n",
       "      <td>0.93</td>\n",
       "    </tr>\n",
       "    <tr>\n",
       "      <th>3</th>\n",
       "      <td>151.5</td>\n",
       "      <td>58.5</td>\n",
       "      <td>18.5</td>\n",
       "      <td>1.85</td>\n",
       "    </tr>\n",
       "    <tr>\n",
       "      <th>4</th>\n",
       "      <td>180.8</td>\n",
       "      <td>58.4</td>\n",
       "      <td>12.9</td>\n",
       "      <td>1.29</td>\n",
       "    </tr>\n",
       "  </tbody>\n",
       "</table>\n",
       "</div>"
      ],
      "text/plain": [
       "      TV  newspaper  sales  updated_sales\n",
       "0  230.1       69.2   22.1           2.21\n",
       "1   44.5       45.1   10.4           1.04\n",
       "2   17.2       69.3    9.3           0.93\n",
       "3  151.5       58.5   18.5           1.85\n",
       "4  180.8       58.4   12.9           1.29"
      ]
     },
     "execution_count": 137,
     "metadata": {},
     "output_type": "execute_result"
    }
   ],
   "source": [
    "advert_df.head()"
   ]
  },
  {
   "cell_type": "code",
   "execution_count": 138,
   "id": "e96cd406-2d0c-4a44-830a-508c92aeee4b",
   "metadata": {},
   "outputs": [],
   "source": [
    "#11.xi) display shape of data."
   ]
  },
  {
   "cell_type": "code",
   "execution_count": 139,
   "id": "15862936-10b4-4a12-aad2-e387f05cf284",
   "metadata": {},
   "outputs": [
    {
     "name": "stdout",
     "output_type": "stream",
     "text": [
      "(200, 4)\n"
     ]
    }
   ],
   "source": [
    "print(advert_df.shape)"
   ]
  },
  {
   "cell_type": "code",
   "execution_count": 140,
   "id": "05844d3f-d42c-4270-8448-3a9d714fb219",
   "metadata": {},
   "outputs": [],
   "source": [
    "#11.xii) Find out maximum,minimum,mean,median,standard deviation value of each column."
   ]
  },
  {
   "cell_type": "code",
   "execution_count": 141,
   "id": "e7257ac8-00b8-404f-ba20-bb825e343093",
   "metadata": {},
   "outputs": [
    {
     "name": "stdout",
     "output_type": "stream",
     "text": [
      "TV               296.4\n",
      "newspaper        114.0\n",
      "sales             27.0\n",
      "updated_sales      2.7\n",
      "dtype: float64\n"
     ]
    }
   ],
   "source": [
    "print(advert_df.max())"
   ]
  },
  {
   "cell_type": "code",
   "execution_count": 142,
   "id": "b79c93d6-3cac-40a2-9ff6-10d8a3bf35d4",
   "metadata": {},
   "outputs": [
    {
     "name": "stdout",
     "output_type": "stream",
     "text": [
      "TV               0.70\n",
      "newspaper        0.30\n",
      "sales            1.60\n",
      "updated_sales    0.16\n",
      "dtype: float64\n"
     ]
    }
   ],
   "source": [
    "print(advert_df.min())"
   ]
  },
  {
   "cell_type": "code",
   "execution_count": 143,
   "id": "d56710f6-4e81-45f6-82ed-10a3a650e07d",
   "metadata": {},
   "outputs": [
    {
     "name": "stdout",
     "output_type": "stream",
     "text": [
      "TV               147.04250\n",
      "newspaper         30.55400\n",
      "sales             14.02250\n",
      "updated_sales      1.40225\n",
      "dtype: float64\n"
     ]
    }
   ],
   "source": [
    "print(advert_df.mean())"
   ]
  },
  {
   "cell_type": "code",
   "execution_count": 144,
   "id": "630e4263-7201-4935-b87e-154cd20757af",
   "metadata": {},
   "outputs": [
    {
     "name": "stdout",
     "output_type": "stream",
     "text": [
      "TV               149.75\n",
      "newspaper         25.75\n",
      "sales             12.90\n",
      "updated_sales      1.29\n",
      "dtype: float64\n"
     ]
    }
   ],
   "source": [
    "print(advert_df.median())"
   ]
  },
  {
   "cell_type": "code",
   "execution_count": 145,
   "id": "4f5be63a-3579-425d-9215-db24a2ab2568",
   "metadata": {},
   "outputs": [
    {
     "name": "stdout",
     "output_type": "stream",
     "text": [
      "TV               85.854236\n",
      "newspaper        21.778621\n",
      "sales             5.217457\n",
      "updated_sales     0.521746\n",
      "dtype: float64\n"
     ]
    }
   ],
   "source": [
    "print(advert_df.std())"
   ]
  },
  {
   "cell_type": "code",
   "execution_count": 146,
   "id": "410a071c-39e1-4d49-9f43-3b60a872261a",
   "metadata": {},
   "outputs": [],
   "source": [
    "#11.xiii) describe the dataset."
   ]
  },
  {
   "cell_type": "code",
   "execution_count": 147,
   "id": "6c85c36c-57cb-4d1f-88b2-4fe108cd2219",
   "metadata": {},
   "outputs": [
    {
     "data": {
      "text/html": [
       "<div>\n",
       "<style scoped>\n",
       "    .dataframe tbody tr th:only-of-type {\n",
       "        vertical-align: middle;\n",
       "    }\n",
       "\n",
       "    .dataframe tbody tr th {\n",
       "        vertical-align: top;\n",
       "    }\n",
       "\n",
       "    .dataframe thead th {\n",
       "        text-align: right;\n",
       "    }\n",
       "</style>\n",
       "<table border=\"1\" class=\"dataframe\">\n",
       "  <thead>\n",
       "    <tr style=\"text-align: right;\">\n",
       "      <th></th>\n",
       "      <th>TV</th>\n",
       "      <th>newspaper</th>\n",
       "      <th>sales</th>\n",
       "      <th>updated_sales</th>\n",
       "    </tr>\n",
       "  </thead>\n",
       "  <tbody>\n",
       "    <tr>\n",
       "      <th>count</th>\n",
       "      <td>200.000000</td>\n",
       "      <td>200.000000</td>\n",
       "      <td>200.000000</td>\n",
       "      <td>200.000000</td>\n",
       "    </tr>\n",
       "    <tr>\n",
       "      <th>mean</th>\n",
       "      <td>147.042500</td>\n",
       "      <td>30.554000</td>\n",
       "      <td>14.022500</td>\n",
       "      <td>1.402250</td>\n",
       "    </tr>\n",
       "    <tr>\n",
       "      <th>std</th>\n",
       "      <td>85.854236</td>\n",
       "      <td>21.778621</td>\n",
       "      <td>5.217457</td>\n",
       "      <td>0.521746</td>\n",
       "    </tr>\n",
       "    <tr>\n",
       "      <th>min</th>\n",
       "      <td>0.700000</td>\n",
       "      <td>0.300000</td>\n",
       "      <td>1.600000</td>\n",
       "      <td>0.160000</td>\n",
       "    </tr>\n",
       "    <tr>\n",
       "      <th>25%</th>\n",
       "      <td>74.375000</td>\n",
       "      <td>12.750000</td>\n",
       "      <td>10.375000</td>\n",
       "      <td>1.037500</td>\n",
       "    </tr>\n",
       "    <tr>\n",
       "      <th>50%</th>\n",
       "      <td>149.750000</td>\n",
       "      <td>25.750000</td>\n",
       "      <td>12.900000</td>\n",
       "      <td>1.290000</td>\n",
       "    </tr>\n",
       "    <tr>\n",
       "      <th>75%</th>\n",
       "      <td>218.825000</td>\n",
       "      <td>45.100000</td>\n",
       "      <td>17.400000</td>\n",
       "      <td>1.740000</td>\n",
       "    </tr>\n",
       "    <tr>\n",
       "      <th>max</th>\n",
       "      <td>296.400000</td>\n",
       "      <td>114.000000</td>\n",
       "      <td>27.000000</td>\n",
       "      <td>2.700000</td>\n",
       "    </tr>\n",
       "  </tbody>\n",
       "</table>\n",
       "</div>"
      ],
      "text/plain": [
       "               TV   newspaper       sales  updated_sales\n",
       "count  200.000000  200.000000  200.000000     200.000000\n",
       "mean   147.042500   30.554000   14.022500       1.402250\n",
       "std     85.854236   21.778621    5.217457       0.521746\n",
       "min      0.700000    0.300000    1.600000       0.160000\n",
       "25%     74.375000   12.750000   10.375000       1.037500\n",
       "50%    149.750000   25.750000   12.900000       1.290000\n",
       "75%    218.825000   45.100000   17.400000       1.740000\n",
       "max    296.400000  114.000000   27.000000       2.700000"
      ]
     },
     "execution_count": 147,
     "metadata": {},
     "output_type": "execute_result"
    }
   ],
   "source": [
    "advert_df.describe()"
   ]
  },
  {
   "cell_type": "code",
   "execution_count": 153,
   "id": "f900f8e1-304b-4404-8b54-9e362931d54e",
   "metadata": {},
   "outputs": [],
   "source": [
    "#12.i) Read the dataset \"Salaries.csv\" in dataframe."
   ]
  },
  {
   "cell_type": "code",
   "execution_count": 154,
   "id": "749a4b46-ba80-423f-9aab-558a48c37bb6",
   "metadata": {},
   "outputs": [
    {
     "name": "stdout",
     "output_type": "stream",
     "text": [
      "    YearsExperience  Salary\n",
      "0               1.1   39343\n",
      "1               1.3   46205\n",
      "2               1.5   37731\n",
      "3               2.0   43525\n",
      "4               2.2   39891\n",
      "5               2.9   56642\n",
      "6               3.0   60150\n",
      "7               3.2   54445\n",
      "8               3.2   64445\n",
      "9               3.7   57189\n",
      "10              3.9   63218\n",
      "11              4.0   55794\n",
      "12              4.0   56957\n",
      "13              4.1   57081\n",
      "14              4.5   61111\n",
      "15              4.9   67938\n",
      "16              5.1   66029\n",
      "17              5.3   83088\n",
      "18              5.9   81363\n",
      "19              6.0   93940\n",
      "20              6.8   91738\n",
      "21              7.1   98273\n",
      "22              7.9  101302\n",
      "23              8.2  113812\n",
      "24              8.7  109431\n",
      "25              9.0  105582\n",
      "26              9.5  116969\n",
      "27              9.6  112635\n",
      "28             10.3  122391\n",
      "29             10.5  121872\n",
      "30             11.0  140000\n",
      "31             12.0  155000\n",
      "32             13.0  156000\n"
     ]
    }
   ],
   "source": [
    "sal_df = pd.read_csv('Salary_Data.csv')\n",
    "print(sal_df)"
   ]
  },
  {
   "cell_type": "code",
   "execution_count": 155,
   "id": "69efa690-63fb-45e6-a90b-e80cfa375269",
   "metadata": {},
   "outputs": [],
   "source": [
    "#12.ii) display first five records."
   ]
  },
  {
   "cell_type": "code",
   "execution_count": 156,
   "id": "a2e0992c-9643-4f8f-8a60-0d09564bfe1e",
   "metadata": {},
   "outputs": [
    {
     "data": {
      "text/html": [
       "<div>\n",
       "<style scoped>\n",
       "    .dataframe tbody tr th:only-of-type {\n",
       "        vertical-align: middle;\n",
       "    }\n",
       "\n",
       "    .dataframe tbody tr th {\n",
       "        vertical-align: top;\n",
       "    }\n",
       "\n",
       "    .dataframe thead th {\n",
       "        text-align: right;\n",
       "    }\n",
       "</style>\n",
       "<table border=\"1\" class=\"dataframe\">\n",
       "  <thead>\n",
       "    <tr style=\"text-align: right;\">\n",
       "      <th></th>\n",
       "      <th>YearsExperience</th>\n",
       "      <th>Salary</th>\n",
       "    </tr>\n",
       "  </thead>\n",
       "  <tbody>\n",
       "    <tr>\n",
       "      <th>0</th>\n",
       "      <td>1.1</td>\n",
       "      <td>39343</td>\n",
       "    </tr>\n",
       "    <tr>\n",
       "      <th>1</th>\n",
       "      <td>1.3</td>\n",
       "      <td>46205</td>\n",
       "    </tr>\n",
       "    <tr>\n",
       "      <th>2</th>\n",
       "      <td>1.5</td>\n",
       "      <td>37731</td>\n",
       "    </tr>\n",
       "    <tr>\n",
       "      <th>3</th>\n",
       "      <td>2.0</td>\n",
       "      <td>43525</td>\n",
       "    </tr>\n",
       "    <tr>\n",
       "      <th>4</th>\n",
       "      <td>2.2</td>\n",
       "      <td>39891</td>\n",
       "    </tr>\n",
       "  </tbody>\n",
       "</table>\n",
       "</div>"
      ],
      "text/plain": [
       "   YearsExperience  Salary\n",
       "0              1.1   39343\n",
       "1              1.3   46205\n",
       "2              1.5   37731\n",
       "3              2.0   43525\n",
       "4              2.2   39891"
      ]
     },
     "execution_count": 156,
     "metadata": {},
     "output_type": "execute_result"
    }
   ],
   "source": [
    "sal_df.head()"
   ]
  },
  {
   "cell_type": "code",
   "execution_count": 157,
   "id": "3746d587-ebb2-48dd-a5bf-b3e2c0cb5655",
   "metadata": {},
   "outputs": [],
   "source": [
    "#12.iii) display first ten records."
   ]
  },
  {
   "cell_type": "code",
   "execution_count": 158,
   "id": "e2008712-6f9a-4018-ba3a-07052a5dee9a",
   "metadata": {},
   "outputs": [
    {
     "data": {
      "text/html": [
       "<div>\n",
       "<style scoped>\n",
       "    .dataframe tbody tr th:only-of-type {\n",
       "        vertical-align: middle;\n",
       "    }\n",
       "\n",
       "    .dataframe tbody tr th {\n",
       "        vertical-align: top;\n",
       "    }\n",
       "\n",
       "    .dataframe thead th {\n",
       "        text-align: right;\n",
       "    }\n",
       "</style>\n",
       "<table border=\"1\" class=\"dataframe\">\n",
       "  <thead>\n",
       "    <tr style=\"text-align: right;\">\n",
       "      <th></th>\n",
       "      <th>YearsExperience</th>\n",
       "      <th>Salary</th>\n",
       "    </tr>\n",
       "  </thead>\n",
       "  <tbody>\n",
       "    <tr>\n",
       "      <th>0</th>\n",
       "      <td>1.1</td>\n",
       "      <td>39343</td>\n",
       "    </tr>\n",
       "    <tr>\n",
       "      <th>1</th>\n",
       "      <td>1.3</td>\n",
       "      <td>46205</td>\n",
       "    </tr>\n",
       "    <tr>\n",
       "      <th>2</th>\n",
       "      <td>1.5</td>\n",
       "      <td>37731</td>\n",
       "    </tr>\n",
       "    <tr>\n",
       "      <th>3</th>\n",
       "      <td>2.0</td>\n",
       "      <td>43525</td>\n",
       "    </tr>\n",
       "    <tr>\n",
       "      <th>4</th>\n",
       "      <td>2.2</td>\n",
       "      <td>39891</td>\n",
       "    </tr>\n",
       "    <tr>\n",
       "      <th>5</th>\n",
       "      <td>2.9</td>\n",
       "      <td>56642</td>\n",
       "    </tr>\n",
       "    <tr>\n",
       "      <th>6</th>\n",
       "      <td>3.0</td>\n",
       "      <td>60150</td>\n",
       "    </tr>\n",
       "    <tr>\n",
       "      <th>7</th>\n",
       "      <td>3.2</td>\n",
       "      <td>54445</td>\n",
       "    </tr>\n",
       "    <tr>\n",
       "      <th>8</th>\n",
       "      <td>3.2</td>\n",
       "      <td>64445</td>\n",
       "    </tr>\n",
       "    <tr>\n",
       "      <th>9</th>\n",
       "      <td>3.7</td>\n",
       "      <td>57189</td>\n",
       "    </tr>\n",
       "  </tbody>\n",
       "</table>\n",
       "</div>"
      ],
      "text/plain": [
       "   YearsExperience  Salary\n",
       "0              1.1   39343\n",
       "1              1.3   46205\n",
       "2              1.5   37731\n",
       "3              2.0   43525\n",
       "4              2.2   39891\n",
       "5              2.9   56642\n",
       "6              3.0   60150\n",
       "7              3.2   54445\n",
       "8              3.2   64445\n",
       "9              3.7   57189"
      ]
     },
     "execution_count": 158,
     "metadata": {},
     "output_type": "execute_result"
    }
   ],
   "source": [
    "sal_df.head(10)"
   ]
  },
  {
   "cell_type": "code",
   "execution_count": 159,
   "id": "5e1161e2-055e-46cc-a7c7-ed9fe30451b7",
   "metadata": {},
   "outputs": [],
   "source": [
    "#12.iv) display last five records."
   ]
  },
  {
   "cell_type": "code",
   "execution_count": 160,
   "id": "ea60838e-baaa-425d-abdb-e1c326c640cf",
   "metadata": {},
   "outputs": [
    {
     "data": {
      "text/html": [
       "<div>\n",
       "<style scoped>\n",
       "    .dataframe tbody tr th:only-of-type {\n",
       "        vertical-align: middle;\n",
       "    }\n",
       "\n",
       "    .dataframe tbody tr th {\n",
       "        vertical-align: top;\n",
       "    }\n",
       "\n",
       "    .dataframe thead th {\n",
       "        text-align: right;\n",
       "    }\n",
       "</style>\n",
       "<table border=\"1\" class=\"dataframe\">\n",
       "  <thead>\n",
       "    <tr style=\"text-align: right;\">\n",
       "      <th></th>\n",
       "      <th>YearsExperience</th>\n",
       "      <th>Salary</th>\n",
       "    </tr>\n",
       "  </thead>\n",
       "  <tbody>\n",
       "    <tr>\n",
       "      <th>28</th>\n",
       "      <td>10.3</td>\n",
       "      <td>122391</td>\n",
       "    </tr>\n",
       "    <tr>\n",
       "      <th>29</th>\n",
       "      <td>10.5</td>\n",
       "      <td>121872</td>\n",
       "    </tr>\n",
       "    <tr>\n",
       "      <th>30</th>\n",
       "      <td>11.0</td>\n",
       "      <td>140000</td>\n",
       "    </tr>\n",
       "    <tr>\n",
       "      <th>31</th>\n",
       "      <td>12.0</td>\n",
       "      <td>155000</td>\n",
       "    </tr>\n",
       "    <tr>\n",
       "      <th>32</th>\n",
       "      <td>13.0</td>\n",
       "      <td>156000</td>\n",
       "    </tr>\n",
       "  </tbody>\n",
       "</table>\n",
       "</div>"
      ],
      "text/plain": [
       "    YearsExperience  Salary\n",
       "28             10.3  122391\n",
       "29             10.5  121872\n",
       "30             11.0  140000\n",
       "31             12.0  155000\n",
       "32             13.0  156000"
      ]
     },
     "execution_count": 160,
     "metadata": {},
     "output_type": "execute_result"
    }
   ],
   "source": [
    "sal_df.tail()"
   ]
  },
  {
   "cell_type": "code",
   "execution_count": 161,
   "id": "ef176dbc-9450-4913-9465-05c8d62d94ff",
   "metadata": {},
   "outputs": [
    {
     "data": {
      "text/html": [
       "<div>\n",
       "<style scoped>\n",
       "    .dataframe tbody tr th:only-of-type {\n",
       "        vertical-align: middle;\n",
       "    }\n",
       "\n",
       "    .dataframe tbody tr th {\n",
       "        vertical-align: top;\n",
       "    }\n",
       "\n",
       "    .dataframe thead th {\n",
       "        text-align: right;\n",
       "    }\n",
       "</style>\n",
       "<table border=\"1\" class=\"dataframe\">\n",
       "  <thead>\n",
       "    <tr style=\"text-align: right;\">\n",
       "      <th></th>\n",
       "      <th>YearsExperience</th>\n",
       "      <th>Salary</th>\n",
       "    </tr>\n",
       "  </thead>\n",
       "  <tbody>\n",
       "    <tr>\n",
       "      <th>23</th>\n",
       "      <td>8.2</td>\n",
       "      <td>113812</td>\n",
       "    </tr>\n",
       "    <tr>\n",
       "      <th>24</th>\n",
       "      <td>8.7</td>\n",
       "      <td>109431</td>\n",
       "    </tr>\n",
       "    <tr>\n",
       "      <th>25</th>\n",
       "      <td>9.0</td>\n",
       "      <td>105582</td>\n",
       "    </tr>\n",
       "    <tr>\n",
       "      <th>26</th>\n",
       "      <td>9.5</td>\n",
       "      <td>116969</td>\n",
       "    </tr>\n",
       "    <tr>\n",
       "      <th>27</th>\n",
       "      <td>9.6</td>\n",
       "      <td>112635</td>\n",
       "    </tr>\n",
       "    <tr>\n",
       "      <th>28</th>\n",
       "      <td>10.3</td>\n",
       "      <td>122391</td>\n",
       "    </tr>\n",
       "    <tr>\n",
       "      <th>29</th>\n",
       "      <td>10.5</td>\n",
       "      <td>121872</td>\n",
       "    </tr>\n",
       "    <tr>\n",
       "      <th>30</th>\n",
       "      <td>11.0</td>\n",
       "      <td>140000</td>\n",
       "    </tr>\n",
       "    <tr>\n",
       "      <th>31</th>\n",
       "      <td>12.0</td>\n",
       "      <td>155000</td>\n",
       "    </tr>\n",
       "    <tr>\n",
       "      <th>32</th>\n",
       "      <td>13.0</td>\n",
       "      <td>156000</td>\n",
       "    </tr>\n",
       "  </tbody>\n",
       "</table>\n",
       "</div>"
      ],
      "text/plain": [
       "    YearsExperience  Salary\n",
       "23              8.2  113812\n",
       "24              8.7  109431\n",
       "25              9.0  105582\n",
       "26              9.5  116969\n",
       "27              9.6  112635\n",
       "28             10.3  122391\n",
       "29             10.5  121872\n",
       "30             11.0  140000\n",
       "31             12.0  155000\n",
       "32             13.0  156000"
      ]
     },
     "execution_count": 161,
     "metadata": {},
     "output_type": "execute_result"
    }
   ],
   "source": [
    "sal_df.tail(10)"
   ]
  },
  {
   "cell_type": "code",
   "execution_count": 162,
   "id": "737c2a42-3c18-47b0-956c-91bc89916fbf",
   "metadata": {},
   "outputs": [],
   "source": [
    "#12.vi) display the columns inside the dataset."
   ]
  },
  {
   "cell_type": "code",
   "execution_count": 163,
   "id": "745567b9-23a7-496a-a692-7ca3f125aa15",
   "metadata": {},
   "outputs": [
    {
     "data": {
      "text/plain": [
       "Index(['YearsExperience', 'Salary'], dtype='object')"
      ]
     },
     "execution_count": 163,
     "metadata": {},
     "output_type": "execute_result"
    }
   ],
   "source": [
    "sal_df.columns"
   ]
  },
  {
   "cell_type": "code",
   "execution_count": 164,
   "id": "1850db77-f1cd-44e5-b71a-3f970461c37f",
   "metadata": {},
   "outputs": [],
   "source": [
    "#12.vii) display shape of data."
   ]
  },
  {
   "cell_type": "code",
   "execution_count": 165,
   "id": "f57e043f-08a2-490f-97ae-37a1a1c22cf6",
   "metadata": {},
   "outputs": [
    {
     "data": {
      "text/plain": [
       "(33, 2)"
      ]
     },
     "execution_count": 165,
     "metadata": {},
     "output_type": "execute_result"
    }
   ],
   "source": [
    "sal_df.shape"
   ]
  },
  {
   "cell_type": "code",
   "execution_count": 166,
   "id": "eca45b2b-737e-4f3f-89f4-8128954b4d80",
   "metadata": {},
   "outputs": [],
   "source": [
    "#12. viii) describe the dataset."
   ]
  },
  {
   "cell_type": "code",
   "execution_count": 167,
   "id": "bd667730-db1f-4012-8ba4-5404115b9aa0",
   "metadata": {},
   "outputs": [
    {
     "data": {
      "text/html": [
       "<div>\n",
       "<style scoped>\n",
       "    .dataframe tbody tr th:only-of-type {\n",
       "        vertical-align: middle;\n",
       "    }\n",
       "\n",
       "    .dataframe tbody tr th {\n",
       "        vertical-align: top;\n",
       "    }\n",
       "\n",
       "    .dataframe thead th {\n",
       "        text-align: right;\n",
       "    }\n",
       "</style>\n",
       "<table border=\"1\" class=\"dataframe\">\n",
       "  <thead>\n",
       "    <tr style=\"text-align: right;\">\n",
       "      <th></th>\n",
       "      <th>YearsExperience</th>\n",
       "      <th>Salary</th>\n",
       "    </tr>\n",
       "  </thead>\n",
       "  <tbody>\n",
       "    <tr>\n",
       "      <th>count</th>\n",
       "      <td>33.000000</td>\n",
       "      <td>33.000000</td>\n",
       "    </tr>\n",
       "    <tr>\n",
       "      <th>mean</th>\n",
       "      <td>5.921212</td>\n",
       "      <td>82760.303030</td>\n",
       "    </tr>\n",
       "    <tr>\n",
       "      <th>std</th>\n",
       "      <td>3.342413</td>\n",
       "      <td>34014.620992</td>\n",
       "    </tr>\n",
       "    <tr>\n",
       "      <th>min</th>\n",
       "      <td>1.100000</td>\n",
       "      <td>37731.000000</td>\n",
       "    </tr>\n",
       "    <tr>\n",
       "      <th>25%</th>\n",
       "      <td>3.200000</td>\n",
       "      <td>56957.000000</td>\n",
       "    </tr>\n",
       "    <tr>\n",
       "      <th>50%</th>\n",
       "      <td>5.100000</td>\n",
       "      <td>67938.000000</td>\n",
       "    </tr>\n",
       "    <tr>\n",
       "      <th>75%</th>\n",
       "      <td>8.700000</td>\n",
       "      <td>109431.000000</td>\n",
       "    </tr>\n",
       "    <tr>\n",
       "      <th>max</th>\n",
       "      <td>13.000000</td>\n",
       "      <td>156000.000000</td>\n",
       "    </tr>\n",
       "  </tbody>\n",
       "</table>\n",
       "</div>"
      ],
      "text/plain": [
       "       YearsExperience         Salary\n",
       "count        33.000000      33.000000\n",
       "mean          5.921212   82760.303030\n",
       "std           3.342413   34014.620992\n",
       "min           1.100000   37731.000000\n",
       "25%           3.200000   56957.000000\n",
       "50%           5.100000   67938.000000\n",
       "75%           8.700000  109431.000000\n",
       "max          13.000000  156000.000000"
      ]
     },
     "execution_count": 167,
     "metadata": {},
     "output_type": "execute_result"
    }
   ],
   "source": [
    "sal_df.describe()"
   ]
  },
  {
   "cell_type": "code",
   "execution_count": 168,
   "id": "45dd166d-63db-4c54-b576-bfe20b11623c",
   "metadata": {},
   "outputs": [],
   "source": [
    "#12. ix) display the information about the dataset and analyse the data."
   ]
  },
  {
   "cell_type": "code",
   "execution_count": 169,
   "id": "fc1bbbb3-6a05-40e1-a3a0-cd18999cde55",
   "metadata": {},
   "outputs": [
    {
     "name": "stdout",
     "output_type": "stream",
     "text": [
      "<class 'pandas.core.frame.DataFrame'>\n",
      "RangeIndex: 33 entries, 0 to 32\n",
      "Data columns (total 2 columns):\n",
      " #   Column           Non-Null Count  Dtype  \n",
      "---  ------           --------------  -----  \n",
      " 0   YearsExperience  33 non-null     float64\n",
      " 1   Salary           33 non-null     int64  \n",
      "dtypes: float64(1), int64(1)\n",
      "memory usage: 656.0 bytes\n"
     ]
    }
   ],
   "source": [
    "sal_df.info()"
   ]
  },
  {
   "cell_type": "code",
   "execution_count": 170,
   "id": "06eae7fc-029a-4fea-a19b-2f7ee9101b93",
   "metadata": {},
   "outputs": [],
   "source": [
    "#12. x) display types of each columns."
   ]
  },
  {
   "cell_type": "code",
   "execution_count": 174,
   "id": "33fe6fe7-6916-4b15-8910-945198efea34",
   "metadata": {},
   "outputs": [
    {
     "name": "stdout",
     "output_type": "stream",
     "text": [
      "YearsExperience    float64\n",
      "Salary               int64\n",
      "dtype: object\n"
     ]
    }
   ],
   "source": [
    "print(sal_df.dtypes)"
   ]
  },
  {
   "cell_type": "code",
   "execution_count": 175,
   "id": "386d4fde-b279-471a-8d86-a266d8c55a37",
   "metadata": {},
   "outputs": [],
   "source": [
    "#12. xi) Find out maximum,minimum,mean,median,standard deviation value of each column."
   ]
  },
  {
   "cell_type": "code",
   "execution_count": 176,
   "id": "eca9b119-0cd3-4f8c-8e74-e0d7f58a6441",
   "metadata": {},
   "outputs": [
    {
     "name": "stdout",
     "output_type": "stream",
     "text": [
      "YearsExperience        13.0\n",
      "Salary             156000.0\n",
      "dtype: float64\n"
     ]
    }
   ],
   "source": [
    "print(sal_df.max())"
   ]
  },
  {
   "cell_type": "code",
   "execution_count": 177,
   "id": "5eb09b39-e5cb-4f6c-9c5d-b262655d3f6e",
   "metadata": {},
   "outputs": [
    {
     "name": "stdout",
     "output_type": "stream",
     "text": [
      "YearsExperience        1.1\n",
      "Salary             37731.0\n",
      "dtype: float64\n"
     ]
    }
   ],
   "source": [
    "print(sal_df.min())"
   ]
  },
  {
   "cell_type": "code",
   "execution_count": 178,
   "id": "dfefdd72-0a8c-43dd-bdf5-022cc455cb55",
   "metadata": {},
   "outputs": [
    {
     "name": "stdout",
     "output_type": "stream",
     "text": [
      "YearsExperience        5.921212\n",
      "Salary             82760.303030\n",
      "dtype: float64\n"
     ]
    }
   ],
   "source": [
    "print(sal_df.mean())"
   ]
  },
  {
   "cell_type": "code",
   "execution_count": 179,
   "id": "b4a0663b-f9a5-448b-89c1-b9f9562fc340",
   "metadata": {},
   "outputs": [
    {
     "name": "stdout",
     "output_type": "stream",
     "text": [
      "YearsExperience        5.1\n",
      "Salary             67938.0\n",
      "dtype: float64\n"
     ]
    }
   ],
   "source": [
    "print(sal_df.median())"
   ]
  },
  {
   "cell_type": "code",
   "execution_count": 180,
   "id": "082637cc-cbfa-4464-8db5-155cc58dc42d",
   "metadata": {},
   "outputs": [
    {
     "name": "stdout",
     "output_type": "stream",
     "text": [
      "YearsExperience        3.342413\n",
      "Salary             34014.620992\n",
      "dtype: float64\n"
     ]
    }
   ],
   "source": [
    "print(sal_df.std())"
   ]
  }
 ],
 "metadata": {
  "kernelspec": {
   "display_name": "Python 3 (ipykernel)",
   "language": "python",
   "name": "python3"
  },
  "language_info": {
   "codemirror_mode": {
    "name": "ipython",
    "version": 3
   },
   "file_extension": ".py",
   "mimetype": "text/x-python",
   "name": "python",
   "nbconvert_exporter": "python",
   "pygments_lexer": "ipython3",
   "version": "3.10.12"
  }
 },
 "nbformat": 4,
 "nbformat_minor": 5
}
